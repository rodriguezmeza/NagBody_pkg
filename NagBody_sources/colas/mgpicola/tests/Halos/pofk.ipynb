{
 "cells": [
  {
   "cell_type": "code",
   "execution_count": 1,
   "metadata": {},
   "outputs": [],
   "source": [
    "%matplotlib inline\n",
    "%config InlineBackend.figure_format = 'retina'"
   ]
  },
  {
   "cell_type": "code",
   "execution_count": 2,
   "metadata": {},
   "outputs": [],
   "source": [
    "from nbodykit.lab import *\n",
    "from nbodykit.source.catalog import ArrayCatalog\n",
    "from nbodykit import setup_logging, style\n",
    "\n",
    "import os\n",
    "import matplotlib.pyplot as plt\n",
    "plt.style.use(style.notebook)\n",
    "\n",
    "import numpy as np"
   ]
  },
  {
   "cell_type": "code",
   "execution_count": 3,
   "metadata": {},
   "outputs": [],
   "source": [
    "setup_logging() # turn on logging to screen"
   ]
  },
  {
   "cell_type": "code",
   "execution_count": 4,
   "metadata": {},
   "outputs": [
    {
     "name": "stdout",
     "output_type": "stream",
     "text": [
      "1073741824\n"
     ]
    }
   ],
   "source": [
    "#redshift = 0.5\n",
    "#cosmo = cosmology.Planck15\n",
    "LBox = 1024.0\n",
    "Nparticles = 1024*1024*1024\n",
    "print(Nparticles)"
   ]
  },
  {
   "cell_type": "code",
   "execution_count": 5,
   "metadata": {},
   "outputs": [],
   "source": [
    "# define download dir for the data to the current directory\n",
    "download_dir = \"../../../../halo_catalogues/F6/box1/27\"\n",
    "#download_dir = \"/Users/mar/Research/Codigos/NagBody_pkg/NagBody_sources/colas/mglpicola_fofr/runs/mglpicola_fofr/B0256_P0256_M0256_testing/F5/box5001/output/.\"\n",
    "#download_dir = \"/Users/mar/Research/Codigos/NagBody_pkg/NagBody_sources/colas/mglpicola_fofr/runs/mglpicola_fofr/B0256_P0256_M0256/F5/box5001/output/.\"\n",
    "#download_dir = \"./gadget_data_27\""
   ]
  },
  {
   "cell_type": "code",
   "execution_count": 6,
   "metadata": {},
   "outputs": [
    {
     "name": "stdout",
     "output_type": "stream",
     "text": [
      "2088610\n",
      "272286591.0\n",
      "0.2535866489633918\n",
      "[[   5.05451   27.90979    7.1484 ]\n",
      " [   3.33114    2.02789    8.77102]\n",
      " [   6.93523   23.87998    3.54353]\n",
      " ...\n",
      " [1012.35187 1023.24255 1010.75012]\n",
      " [1018.56238 1010.28809 1012.22632]\n",
      " [1017.27716 1014.47455 1012.68018]]\n",
      "[2.886e+12 3.665e+12 1.404e+12 ... 2.418e+12 1.560e+11 2.184e+12]\n",
      "[[   5.05451   27.90979    7.1484 ]\n",
      " [   3.33114    2.02789    8.77102]\n",
      " [   6.93523   23.87998    3.54353]\n",
      " ...\n",
      " [1012.35187 1023.24255 1010.75012]\n",
      " [1018.56238 1010.28809 1012.22632]\n",
      " [1017.27716 1014.47455 1012.68018]]\n"
     ]
    }
   ],
   "source": [
    "# NOTE: change this path if you downloaded the data somewhere else!\n",
    "data_path = os.path.join(download_dir, 'Rockstar_M200c_F6_B1_B1024_NP1024_S27.dat')\n",
    "#data_path = os.path.join(download_dir, 'snapshot_z0p000.*')\n",
    "#data_path = os.path.join(download_dir, 'gadget.*')\n",
    "\n",
    "\n",
    "# initialize the Gadget1 catalog objects for data and randoms\n",
    "#data = Gadget1Catalog(data_path)\n",
    "\n",
    "# Reading file\n",
    "inputFile = np.loadtxt(data_path)\n",
    "\n",
    "massvec=inputFile[:,2]\n",
    "npvec=inputFile[:,7]\n",
    "xvec=inputFile[:,8]\n",
    "yvec=inputFile[:,9]\n",
    "zvec=inputFile[:,10]\n",
    "nval=massvec.shape[0]\n",
    "npvecsum = np.sum(npvec)\n",
    "print(nval)\n",
    "print(npvecsum)\n",
    "print(npvecsum/Nparticles)\n",
    "\n",
    "#for i in range(0,nval):\n",
    "#    xvec[i] = xvec[i]/LBox\n",
    "#    yvec[i] = yvec[i]/LBox\n",
    "#    zvec[i] = zvec[i]/LBox\n",
    "\n",
    "arraya=np.array([xvec,yvec,zvec])\n",
    "arrayb=np.transpose(arraya)\n",
    "print arrayb\n",
    "\n",
    "# generate the fake data\n",
    "#data = numpy.empty(1024, dtype=[('Position', ('f8', 3)), ('Mass', 'f8')])\n",
    "#data['Position'] = numpy.random.random(size=(1024, 3))\n",
    "#data['Mass'] = numpy.random.random(size=1024)\n",
    "\n",
    "data = numpy.empty(nval, dtype=[('Position', ('f8', 3)), ('Mass', 'f8')])\n",
    "data['Position'] = arrayb\n",
    "data['Mass'] = massvec\n",
    "\n",
    "\n",
    "print(data['Mass'])\n",
    "print(data['Position'])\n",
    "\n"
   ]
  },
  {
   "cell_type": "markdown",
   "metadata": {},
   "source": [
    "We can analyze the available columns in the catalogs via the ``columns`` attribute:"
   ]
  },
  {
   "cell_type": "code",
   "execution_count": 7,
   "metadata": {
    "scrolled": false
   },
   "outputs": [
    {
     "name": "stdout",
     "output_type": "stream",
     "text": [
      "ArrayCatalog(size=2088610)\n",
      "('columns = ', ['Mass', 'Position', 'Selection', 'Value', 'Weight'])\n",
      "('total size = ', 2088610)\n",
      "ArrayCatalog(size=2088610)\n",
      "('columns = ', ['Mass', 'Position', 'Selection', 'Value', 'Weight'])\n",
      "('total size = ', 2088610)\n"
     ]
    }
   ],
   "source": [
    "#print('data columns = ', data.columns)\n",
    "# save to a npy file\n",
    "numpy.save(\"npy-data.npy\", data)\n",
    "\n",
    "data = numpy.load(\"npy-data.npy\")\n",
    "\n",
    "# initialize the catalog\n",
    "f = ArrayCatalog(data)\n",
    "\n",
    "print(f)\n",
    "print(\"columns = \", f.columns) # default Weight,Selection also present\n",
    "print(\"total size = \", f.csize)\n",
    "\n",
    "\n",
    "f = ArrayCatalog({'Position' : data['Position'], 'Mass' : data['Mass'] })\n",
    "\n",
    "print(f)\n",
    "print(\"columns = \", f.columns) # default Weight,Selection also present\n",
    "print(\"total size = \", f.csize)"
   ]
  },
  {
   "cell_type": "code",
   "execution_count": 8,
   "metadata": {
    "scrolled": true
   },
   "outputs": [],
   "source": [
    "#ri = 0.01\n",
    "#rf = 100.0\n",
    "#Nr = 30\n",
    "#dr = (rf-ri)/int(Nr)\n",
    "#redges = np.arange(ri,rf,dr)\n",
    "##edges = numpy.linspace(0.1, 10., 20+1) # 20 total bins\n",
    "#print(redges)\n",
    "##MyBoxSize1 = data.attrs['MyBoxSize']"
   ]
  },
  {
   "cell_type": "code",
   "execution_count": 9,
   "metadata": {
    "scrolled": true
   },
   "outputs": [],
   "source": [
    "#r = SimulationBox2PCF(mode='1d',data1=f,edges=redges,BoxSize=[LBox,LBox,LBox],periodic=True,position='Position')"
   ]
  },
  {
   "cell_type": "code",
   "execution_count": 10,
   "metadata": {},
   "outputs": [],
   "source": [
    "#print(r)\n",
    "#print(r.D1D2)\n",
    "#tpcf=r.D1D2\n",
    "#print(tpcf.coords)"
   ]
  },
  {
   "cell_type": "code",
   "execution_count": 11,
   "metadata": {},
   "outputs": [],
   "source": [
    "#rvec=tpcf['r']\n",
    "#tpcfvec=tpcf['npairs'].real\n",
    "#\n",
    "##print(kvec[3])\n",
    "##print(pkvec[3])\n",
    "#\n",
    "#nr = rvec.shape[0]\n",
    "#\n",
    "#print(nr)\n",
    "#\n",
    "#tpcfa=np.array([rvec,tpcfvec])\n",
    "#tpcfb=np.transpose(tpcfa)\n",
    "#print tpcfb\n",
    "#\n",
    "#np.savetxt('tpcf.txt',tpcfb,delimiter='\\t',newline='\\r\\n')"
   ]
  },
  {
   "cell_type": "code",
   "execution_count": 12,
   "metadata": {},
   "outputs": [],
   "source": [
    "## print out the meta-data\n",
    "#for r in tpcf.attrs:\n",
    "#    print(\"%s = %s\" %(r, str(tpcf.attrs[r])))"
   ]
  },
  {
   "cell_type": "code",
   "execution_count": 13,
   "metadata": {},
   "outputs": [],
   "source": [
    "#fig0 = plt.figure()\n",
    "#\n",
    "## print the shot noise subtracted P(k)\n",
    "#plt.plot(tpcf['r'], tpcf['npairs'])\n",
    "##plt.loglog(Pk['k'], Pk['power'].real)\n",
    "#\n",
    "#\n",
    "## format the axes\n",
    "#plt.xlabel(r\"$r$ [$h \\ \\mathrm{Mpc}^{-1}$]\")\n",
    "#plt.ylabel(r\"$\\chi$ [$h^{-3}\\mathrm{Mpc}^3$]\")\n",
    "##plt.xlim(0.001, 0.6)\n",
    "##plt.xlim(0.01, 10.0)\n",
    "##plt.ylim(1,100000)\n",
    "#\n",
    "##fig1.savefig(\"plot.pdf\")"
   ]
  },
  {
   "cell_type": "code",
   "execution_count": 14,
   "metadata": {},
   "outputs": [],
   "source": [
    "# convert to a MeshSource, using TSC interpolation on 256^3 mesh:: tsc or cic\n",
    "#mesh = data.to_mesh(resampler='tsc', Nmesh=512, compensated=True, position='Position')\n",
    "#mesh = data.to_mesh(resampler='tsc', Nmesh=1024, compensated=True, position='Position')\n",
    "#mesh = data.to_mesh(resampler='tsc', Nmesh=1024, compensated=True, position='Position',weight='Mass',interlaced=True)\n",
    "mesh = f.to_mesh(resampler='tsc', BoxSize=LBox, Nmesh=1024, compensated=True, position='Position',weight='Mass',interlaced=True)"
   ]
  },
  {
   "cell_type": "code",
   "execution_count": 15,
   "metadata": {},
   "outputs": [
    {
     "name": "stdout",
     "output_type": "stream",
     "text": [
      "('mesh = ', (ArrayCatalog(size=2088610) as CatalogMesh))\n"
     ]
    }
   ],
   "source": [
    "print(\"mesh = \", mesh)"
   ]
  },
  {
   "cell_type": "code",
   "execution_count": 16,
   "metadata": {},
   "outputs": [
    {
     "name": "stderr",
     "output_type": "stream",
     "text": [
      "[ 000126.62 ]   0: 10-17 08:48  CatalogMesh     INFO     Chunk 0 ~ 4194304 / 2088610 \n",
      "[ 000128.89 ]   0: 10-17 08:48  CatalogMesh     INFO     painted 2088610 out of 2088610 objects to mesh\n",
      "[ 000234.70 ]   0: 10-17 08:50  CatalogMesh     INFO     painted 2088610 out of 2088610 objects to mesh\n",
      "[ 000234.71 ]   0: 10-17 08:50  CatalogMesh     INFO     mean particles per cell is 1.20085e+10\n",
      "[ 000234.72 ]   0: 10-17 08:50  CatalogMesh     INFO     sum is 1.28941e+19 \n",
      "[ 000235.84 ]   0: 10-17 08:50  CatalogMesh     INFO     normalized the convention to 1 + delta\n",
      "[ 000259.48 ]   0: 10-17 08:50  CatalogMesh     INFO     field: (ArrayCatalog(size=2088610) as CatalogMesh) painting done\n"
     ]
    }
   ],
   "source": [
    "# compute the power, specifying desired linear k-binning\n",
    "#r = FFTPower(mesh, mode='1d', dk=0.005, kmin=0.01)\n",
    "rr = FFTPower(mesh, mode='1d', dk=0.01, kmin=0.001)"
   ]
  },
  {
   "cell_type": "code",
   "execution_count": 17,
   "metadata": {},
   "outputs": [
    {
     "name": "stdout",
     "output_type": "stream",
     "text": [
      "<nbodykit.algorithms.fftpower.FFTPower object at 0x7f99a060aa50>\n",
      "<BinnedStatistic: dims: (k: 314), variables: ('k', 'power', 'modes')>\n"
     ]
    }
   ],
   "source": [
    "# the result is stored at \"power\" attribute\n",
    "Pk = rr.power\n",
    "print(rr)\n",
    "print(Pk)"
   ]
  },
  {
   "cell_type": "code",
   "execution_count": 18,
   "metadata": {},
   "outputs": [
    {
     "name": "stdout",
     "output_type": "stream",
     "text": [
      "{'k': array([0.006, 0.016, 0.026, 0.036, 0.046, 0.056, 0.066, 0.076, 0.086,\n",
      "       0.096, 0.106, 0.116, 0.126, 0.136, 0.146, 0.156, 0.166, 0.176,\n",
      "       0.186, 0.196, 0.206, 0.216, 0.226, 0.236, 0.246, 0.256, 0.266,\n",
      "       0.276, 0.286, 0.296, 0.306, 0.316, 0.326, 0.336, 0.346, 0.356,\n",
      "       0.366, 0.376, 0.386, 0.396, 0.406, 0.416, 0.426, 0.436, 0.446,\n",
      "       0.456, 0.466, 0.476, 0.486, 0.496, 0.506, 0.516, 0.526, 0.536,\n",
      "       0.546, 0.556, 0.566, 0.576, 0.586, 0.596, 0.606, 0.616, 0.626,\n",
      "       0.636, 0.646, 0.656, 0.666, 0.676, 0.686, 0.696, 0.706, 0.716,\n",
      "       0.726, 0.736, 0.746, 0.756, 0.766, 0.776, 0.786, 0.796, 0.806,\n",
      "       0.816, 0.826, 0.836, 0.846, 0.856, 0.866, 0.876, 0.886, 0.896,\n",
      "       0.906, 0.916, 0.926, 0.936, 0.946, 0.956, 0.966, 0.976, 0.986,\n",
      "       0.996, 1.006, 1.016, 1.026, 1.036, 1.046, 1.056, 1.066, 1.076,\n",
      "       1.086, 1.096, 1.106, 1.116, 1.126, 1.136, 1.146, 1.156, 1.166,\n",
      "       1.176, 1.186, 1.196, 1.206, 1.216, 1.226, 1.236, 1.246, 1.256,\n",
      "       1.266, 1.276, 1.286, 1.296, 1.306, 1.316, 1.326, 1.336, 1.346,\n",
      "       1.356, 1.366, 1.376, 1.386, 1.396, 1.406, 1.416, 1.426, 1.436,\n",
      "       1.446, 1.456, 1.466, 1.476, 1.486, 1.496, 1.506, 1.516, 1.526,\n",
      "       1.536, 1.546, 1.556, 1.566, 1.576, 1.586, 1.596, 1.606, 1.616,\n",
      "       1.626, 1.636, 1.646, 1.656, 1.666, 1.676, 1.686, 1.696, 1.706,\n",
      "       1.716, 1.726, 1.736, 1.746, 1.756, 1.766, 1.776, 1.786, 1.796,\n",
      "       1.806, 1.816, 1.826, 1.836, 1.846, 1.856, 1.866, 1.876, 1.886,\n",
      "       1.896, 1.906, 1.916, 1.926, 1.936, 1.946, 1.956, 1.966, 1.976,\n",
      "       1.986, 1.996, 2.006, 2.016, 2.026, 2.036, 2.046, 2.056, 2.066,\n",
      "       2.076, 2.086, 2.096, 2.106, 2.116, 2.126, 2.136, 2.146, 2.156,\n",
      "       2.166, 2.176, 2.186, 2.196, 2.206, 2.216, 2.226, 2.236, 2.246,\n",
      "       2.256, 2.266, 2.276, 2.286, 2.296, 2.306, 2.316, 2.326, 2.336,\n",
      "       2.346, 2.356, 2.366, 2.376, 2.386, 2.396, 2.406, 2.416, 2.426,\n",
      "       2.436, 2.446, 2.456, 2.466, 2.476, 2.486, 2.496, 2.506, 2.516,\n",
      "       2.526, 2.536, 2.546, 2.556, 2.566, 2.576, 2.586, 2.596, 2.606,\n",
      "       2.616, 2.626, 2.636, 2.646, 2.656, 2.666, 2.676, 2.686, 2.696,\n",
      "       2.706, 2.716, 2.726, 2.736, 2.746, 2.756, 2.766, 2.776, 2.786,\n",
      "       2.796, 2.806, 2.816, 2.826, 2.836, 2.846, 2.856, 2.866, 2.876,\n",
      "       2.886, 2.896, 2.906, 2.916, 2.926, 2.936, 2.946, 2.956, 2.966,\n",
      "       2.976, 2.986, 2.996, 3.006, 3.016, 3.026, 3.036, 3.046, 3.056,\n",
      "       3.066, 3.076, 3.086, 3.096, 3.106, 3.116, 3.126, 3.136])}\n"
     ]
    }
   ],
   "source": [
    "print(Pk.coords)"
   ]
  },
  {
   "cell_type": "code",
   "execution_count": 19,
   "metadata": {},
   "outputs": [
    {
     "name": "stdout",
     "output_type": "stream",
     "text": [
      "314\n",
      "[[8.69105602e-03 6.96395577e+04]\n",
      " [1.72099084e-02 8.23340764e+04]\n",
      " [2.64084370e-02 8.02289360e+04]\n",
      " [3.61653119e-02 5.44116676e+04]\n",
      " [4.65605801e-02 4.75489773e+04]\n",
      " [5.63644376e-02 4.09802003e+04]\n",
      " [6.60666413e-02 3.61315570e+04]\n",
      " [7.63523638e-02 3.14114602e+04]\n",
      " [8.63032717e-02 2.62678751e+04]\n",
      " [9.62451953e-02 2.27907935e+04]\n",
      " [1.06295773e-01 2.05901393e+04]\n",
      " [1.16061120e-01 1.87597588e+04]\n",
      " [1.25982605e-01 1.81744947e+04]\n",
      " [1.36014890e-01 1.64009950e+04]\n",
      " [1.46108998e-01 1.51401425e+04]\n",
      " [1.56071197e-01 1.38173362e+04]\n",
      " [1.66027601e-01 1.32675040e+04]\n",
      " [1.76175408e-01 1.29342602e+04]\n",
      " [1.86110606e-01 1.20174615e+04]\n",
      " [1.96038917e-01 1.14997643e+04]\n",
      " [2.06141769e-01 1.07433329e+04]\n",
      " [2.16069781e-01 1.05507644e+04]\n",
      " [2.25989439e-01 1.02540672e+04]\n",
      " [2.36054646e-01 9.63563770e+03]\n",
      " [2.46060854e-01 9.43070536e+03]\n",
      " [2.56065164e-01 9.09365814e+03]\n",
      " [2.66122409e-01 8.91475350e+03]\n",
      " [2.76109243e-01 8.65019966e+03]\n",
      " [2.86066314e-01 8.36654447e+03]\n",
      " [2.96073051e-01 8.20351153e+03]\n",
      " [3.06039719e-01 8.06572609e+03]\n",
      " [3.15983395e-01 7.80543768e+03]\n",
      " [3.26057054e-01 7.72948808e+03]\n",
      " [3.36083895e-01 7.51294601e+03]\n",
      " [3.46012763e-01 7.35639196e+03]\n",
      " [3.56034184e-01 7.25844742e+03]\n",
      " [3.66070491e-01 7.22079772e+03]\n",
      " [3.76030436e-01 7.10733822e+03]\n",
      " [3.86002615e-01 6.98080359e+03]\n",
      " [3.96042785e-01 6.82990336e+03]\n",
      " [4.06046418e-01 6.82550423e+03]\n",
      " [4.16018215e-01 6.65691082e+03]\n",
      " [4.26000168e-01 6.65131974e+03]\n",
      " [4.36008183e-01 6.54580863e+03]\n",
      " [4.46040581e-01 6.46252047e+03]\n",
      " [4.56002768e-01 6.37855008e+03]\n",
      " [4.66007174e-01 6.23775225e+03]\n",
      " [4.76019786e-01 6.32923975e+03]\n",
      " [4.85982007e-01 6.19336833e+03]\n",
      " [4.96029520e-01 6.12438957e+03]\n",
      " [5.06055053e-01 6.11070733e+03]\n",
      " [5.16020490e-01 6.02381491e+03]\n",
      " [5.26018128e-01 6.00946955e+03]\n",
      " [5.36034391e-01 5.98939523e+03]\n",
      " [5.45997707e-01 5.93222379e+03]\n",
      " [5.55992077e-01 5.88107449e+03]\n",
      " [5.66019266e-01 5.88078613e+03]\n",
      " [5.76002511e-01 5.81796588e+03]\n",
      " [5.86011400e-01 5.79530221e+03]\n",
      " [5.96026380e-01 5.72999600e+03]\n",
      " [6.06029142e-01 5.71930624e+03]\n",
      " [6.16025547e-01 5.71270371e+03]\n",
      " [6.26013565e-01 5.69459650e+03]\n",
      " [6.36026156e-01 5.65764358e+03]\n",
      " [6.46014126e-01 5.62321303e+03]\n",
      " [6.55993781e-01 5.60752329e+03]\n",
      " [6.66013585e-01 5.56624132e+03]\n",
      " [6.76001614e-01 5.55472916e+03]\n",
      " [6.86003291e-01 5.54016896e+03]\n",
      " [6.96041184e-01 5.49102408e+03]\n",
      " [7.06038201e-01 5.50072951e+03]\n",
      " [7.16042904e-01 5.46955525e+03]\n",
      " [7.26049124e-01 5.41491986e+03]\n",
      " [7.36020083e-01 5.42379171e+03]\n",
      " [7.45995070e-01 5.39229617e+03]\n",
      " [7.56001867e-01 5.37369114e+03]\n",
      " [7.66017794e-01 5.38029479e+03]\n",
      " [7.76012934e-01 5.34718563e+03]\n",
      " [7.86027664e-01 5.34750470e+03]\n",
      " [7.96030916e-01 5.33026653e+03]\n",
      " [8.06011180e-01 5.32052923e+03]\n",
      " [8.16023933e-01 5.30270162e+03]\n",
      " [8.26031047e-01 5.28036489e+03]\n",
      " [8.36011581e-01 5.26390276e+03]\n",
      " [8.46006102e-01 5.27009173e+03]\n",
      " [8.56025760e-01 5.25655726e+03]\n",
      " [8.66042594e-01 5.22812875e+03]\n",
      " [8.76025323e-01 5.21188167e+03]\n",
      " [8.86021538e-01 5.22861624e+03]\n",
      " [8.96036192e-01 5.18712890e+03]\n",
      " [9.06027526e-01 5.19582728e+03]\n",
      " [9.16018403e-01 5.15014053e+03]\n",
      " [9.26021894e-01 5.13245681e+03]\n",
      " [9.36012162e-01 5.11987001e+03]\n",
      " [9.46008700e-01 5.14576334e+03]\n",
      " [9.56020517e-01 5.11429375e+03]\n",
      " [9.66014763e-01 5.10002820e+03]\n",
      " [9.76015082e-01 5.08292013e+03]\n",
      " [9.86032164e-01 5.09366214e+03]\n",
      " [9.96039970e-01 5.07153080e+03]\n",
      " [1.00602484e+00 5.05882643e+03]\n",
      " [1.01601691e+00 5.04769029e+03]\n",
      " [1.02601440e+00 5.04922057e+03]\n",
      " [1.03602026e+00 5.04205348e+03]\n",
      " [1.04603129e+00 5.02917683e+03]\n",
      " [1.05602438e+00 5.04595666e+03]\n",
      " [1.06601594e+00 5.01514342e+03]\n",
      " [1.07601008e+00 5.01009841e+03]\n",
      " [1.08601668e+00 5.01809080e+03]\n",
      " [1.09602389e+00 4.98914348e+03]\n",
      " [1.10600254e+00 4.99372345e+03]\n",
      " [1.11600689e+00 4.98824206e+03]\n",
      " [1.12603049e+00 4.96892779e+03]\n",
      " [1.13601460e+00 4.97682762e+03]\n",
      " [1.14601564e+00 4.96025385e+03]\n",
      " [1.15603287e+00 4.95731478e+03]\n",
      " [1.16602756e+00 4.94030916e+03]\n",
      " [1.17602372e+00 4.93146272e+03]\n",
      " [1.18602188e+00 4.92837309e+03]\n",
      " [1.19601758e+00 4.91431721e+03]\n",
      " [1.20601179e+00 4.92077454e+03]\n",
      " [1.21600855e+00 4.90648067e+03]\n",
      " [1.22602267e+00 4.90682422e+03]\n",
      " [1.23602577e+00 4.88856316e+03]\n",
      " [1.24600740e+00 4.88664182e+03]\n",
      " [1.25601621e+00 4.87757928e+03]\n",
      " [1.26601831e+00 4.88199555e+03]\n",
      " [1.27600374e+00 4.87140415e+03]\n",
      " [1.28601828e+00 4.87573053e+03]\n",
      " [1.29601865e+00 4.86859668e+03]\n",
      " [1.30601007e+00 4.85210099e+03]\n",
      " [1.31602356e+00 4.86219835e+03]\n",
      " [1.32600173e+00 4.85155993e+03]\n",
      " [1.33599168e+00 4.84844602e+03]\n",
      " [1.34600768e+00 4.84494855e+03]\n",
      " [1.35600838e+00 4.83008526e+03]\n",
      " [1.36599626e+00 4.82959423e+03]\n",
      " [1.37599218e+00 4.82338003e+03]\n",
      " [1.38600820e+00 4.82365947e+03]\n",
      " [1.39601374e+00 4.81597740e+03]\n",
      " [1.40600733e+00 4.80344818e+03]\n",
      " [1.41600527e+00 4.80831154e+03]\n",
      " [1.42602734e+00 4.81044002e+03]\n",
      " [1.43602550e+00 4.80508205e+03]\n",
      " [1.44600641e+00 4.79463881e+03]\n",
      " [1.45602005e+00 4.78467987e+03]\n",
      " [1.46601148e+00 4.79203079e+03]\n",
      " [1.47600481e+00 4.78755600e+03]\n",
      " [1.48600766e+00 4.77770961e+03]\n",
      " [1.49599778e+00 4.76905883e+03]\n",
      " [1.50600838e+00 4.76714245e+03]\n",
      " [1.51601676e+00 4.75357570e+03]\n",
      " [1.52600886e+00 4.75755781e+03]\n",
      " [1.53600233e+00 4.74000713e+03]\n",
      " [1.54601424e+00 4.74051833e+03]\n",
      " [1.55602622e+00 4.72975022e+03]\n",
      " [1.56601109e+00 4.73771703e+03]\n",
      " [1.57600993e+00 4.73191938e+03]\n",
      " [1.58601235e+00 4.72938465e+03]\n",
      " [1.59599338e+00 4.72649881e+03]\n",
      " [1.60599642e+00 4.73116929e+03]\n",
      " [1.61600701e+00 4.71104476e+03]\n",
      " [1.62600527e+00 4.71583538e+03]\n",
      " [1.63599934e+00 4.71691834e+03]\n",
      " [1.64599274e+00 4.70162943e+03]\n",
      " [1.65600366e+00 4.70105367e+03]\n",
      " [1.66600111e+00 4.69729408e+03]\n",
      " [1.67600735e+00 4.69117284e+03]\n",
      " [1.68601466e+00 4.70030215e+03]\n",
      " [1.69600084e+00 4.69101058e+03]\n",
      " [1.70600564e+00 4.68491924e+03]\n",
      " [1.71600816e+00 4.68301883e+03]\n",
      " [1.72599245e+00 4.67934372e+03]\n",
      " [1.73599690e+00 4.67742914e+03]\n",
      " [1.74601433e+00 4.66895936e+03]\n",
      " [1.75600037e+00 4.66730946e+03]\n",
      " [1.76599855e+00 4.66816846e+03]\n",
      " [1.77600514e+00 4.65728251e+03]\n",
      " [1.78599964e+00 4.65295621e+03]\n",
      " [1.79600839e+00 4.65790082e+03]\n",
      " [1.80600567e+00 4.64452093e+03]\n",
      " [1.81600779e+00 4.65023975e+03]\n",
      " [1.82601864e+00 4.64108178e+03]\n",
      " [1.83601119e+00 4.63182189e+03]\n",
      " [1.84600771e+00 4.62753016e+03]\n",
      " [1.85600664e+00 4.63687552e+03]\n",
      " [1.86600154e+00 4.62901733e+03]\n",
      " [1.87600518e+00 4.61637650e+03]\n",
      " [1.88600752e+00 4.61779109e+03]\n",
      " [1.89600821e+00 4.61994593e+03]\n",
      " [1.90600811e+00 4.61221893e+03]\n",
      " [1.91600169e+00 4.60901544e+03]\n",
      " [1.92600230e+00 4.60471385e+03]\n",
      " [1.93601245e+00 4.60674692e+03]\n",
      " [1.94601050e+00 4.60123913e+03]\n",
      " [1.95600572e+00 4.60742766e+03]\n",
      " [1.96600551e+00 4.60399379e+03]\n",
      " [1.97599716e+00 4.58990867e+03]\n",
      " [1.98598871e+00 4.59162272e+03]\n",
      " [1.99599849e+00 4.58713976e+03]\n",
      " [2.00601826e+00 4.58284070e+03]\n",
      " [2.01601841e+00 4.58421004e+03]\n",
      " [2.02601512e+00 4.57449214e+03]\n",
      " [2.03600907e+00 4.57574600e+03]\n",
      " [2.04600655e+00 4.57193663e+03]\n",
      " [2.05600182e+00 4.57387169e+03]\n",
      " [2.06599780e+00 4.56415736e+03]\n",
      " [2.07600885e+00 4.55360262e+03]\n",
      " [2.08601532e+00 4.56521658e+03]\n",
      " [2.09600984e+00 4.56296630e+03]\n",
      " [2.10600867e+00 4.55588758e+03]\n",
      " [2.11601167e+00 4.55578939e+03]\n",
      " [2.12601088e+00 4.55213818e+03]\n",
      " [2.13600716e+00 4.54729107e+03]\n",
      " [2.14600816e+00 4.54217770e+03]\n",
      " [2.15600828e+00 4.53788887e+03]\n",
      " [2.16600643e+00 4.53399130e+03]\n",
      " [2.17600869e+00 4.53931270e+03]\n",
      " [2.18600371e+00 4.53648700e+03]\n",
      " [2.19600317e+00 4.53073994e+03]\n",
      " [2.20600502e+00 4.52830669e+03]\n",
      " [2.21600699e+00 4.52549953e+03]\n",
      " [2.22601089e+00 4.51748079e+03]\n",
      " [2.23601403e+00 4.52030032e+03]\n",
      " [2.24601273e+00 4.51052818e+03]\n",
      " [2.25601078e+00 4.50967601e+03]\n",
      " [2.26601247e+00 4.51252649e+03]\n",
      " [2.27601303e+00 4.50741471e+03]\n",
      " [2.28600387e+00 4.49961392e+03]\n",
      " [2.29599760e+00 4.49661181e+03]\n",
      " [2.30600362e+00 4.49712514e+03]\n",
      " [2.31600523e+00 4.49632288e+03]\n",
      " [2.32600418e+00 4.48500534e+03]\n",
      " [2.33600883e+00 4.48969392e+03]\n",
      " [2.34601321e+00 4.48639319e+03]\n",
      " [2.35601466e+00 4.48728004e+03]\n",
      " [2.36601287e+00 4.48010332e+03]\n",
      " [2.37600442e+00 4.47772011e+03]\n",
      " [2.38600217e+00 4.47824035e+03]\n",
      " [2.39600830e+00 4.47078746e+03]\n",
      " [2.40600787e+00 4.47371277e+03]\n",
      " [2.41600639e+00 4.46910730e+03]\n",
      " [2.42600413e+00 4.46389281e+03]\n",
      " [2.43600595e+00 4.45913098e+03]\n",
      " [2.44601486e+00 4.46402682e+03]\n",
      " [2.45600822e+00 4.46377606e+03]\n",
      " [2.46600789e+00 4.45338199e+03]\n",
      " [2.47601155e+00 4.45654129e+03]\n",
      " [2.48600517e+00 4.45897165e+03]\n",
      " [2.49600789e+00 4.45095117e+03]\n",
      " [2.50601080e+00 4.44755212e+03]\n",
      " [2.51600620e+00 4.44508002e+03]\n",
      " [2.52601392e+00 4.44465949e+03]\n",
      " [2.53601929e+00 4.44079425e+03]\n",
      " [2.54600904e+00 4.44132103e+03]\n",
      " [2.55600626e+00 4.43474176e+03]\n",
      " [2.56600254e+00 4.43773418e+03]\n",
      " [2.57600025e+00 4.42895182e+03]\n",
      " [2.58600322e+00 4.43027247e+03]\n",
      " [2.59600179e+00 4.43363550e+03]\n",
      " [2.60600926e+00 4.42276051e+03]\n",
      " [2.61600945e+00 4.42224314e+03]\n",
      " [2.62600237e+00 4.41938619e+03]\n",
      " [2.63600595e+00 4.42393240e+03]\n",
      " [2.64600068e+00 4.41092258e+03]\n",
      " [2.65600294e+00 4.41887529e+03]\n",
      " [2.66601630e+00 4.41890543e+03]\n",
      " [2.67600684e+00 4.41294635e+03]\n",
      " [2.68600729e+00 4.40476226e+03]\n",
      " [2.69601664e+00 4.40654994e+03]\n",
      " [2.70600441e+00 4.40725841e+03]\n",
      " [2.71600730e+00 4.40187065e+03]\n",
      " [2.72601289e+00 4.40439648e+03]\n",
      " [2.73600484e+00 4.39811713e+03]\n",
      " [2.74601075e+00 4.39576265e+03]\n",
      " [2.75601410e+00 4.39462660e+03]\n",
      " [2.76601236e+00 4.38781738e+03]\n",
      " [2.77600669e+00 4.39382592e+03]\n",
      " [2.78600114e+00 4.38610905e+03]\n",
      " [2.79599891e+00 4.38869333e+03]\n",
      " [2.80599963e+00 4.38152885e+03]\n",
      " [2.81600612e+00 4.38535836e+03]\n",
      " [2.82600739e+00 4.38204254e+03]\n",
      " [2.83600375e+00 4.38044611e+03]\n",
      " [2.84600280e+00 4.37779528e+03]\n",
      " [2.85600396e+00 4.37317700e+03]\n",
      " [2.86600596e+00 4.37098361e+03]\n",
      " [2.87601102e+00 4.36787514e+03]\n",
      " [2.88601090e+00 4.36990876e+03]\n",
      " [2.89600552e+00 4.36517354e+03]\n",
      " [2.90599826e+00 4.36631533e+03]\n",
      " [2.91600008e+00 4.36187651e+03]\n",
      " [2.92600204e+00 4.36064823e+03]\n",
      " [2.93600157e+00 4.35919857e+03]\n",
      " [2.94600214e+00 4.35698117e+03]\n",
      " [2.95600085e+00 4.35991615e+03]\n",
      " [2.96600130e+00 4.35905438e+03]\n",
      " [2.97600309e+00 4.35642422e+03]\n",
      " [2.98600736e+00 4.35064485e+03]\n",
      " [2.99600743e+00 4.34759526e+03]\n",
      " [3.00599934e+00 4.34797388e+03]\n",
      " [3.01599643e+00 4.34947131e+03]\n",
      " [3.02599848e+00 4.34692204e+03]\n",
      " [3.03600192e+00 4.34608760e+03]\n",
      " [3.04600552e+00 4.34072642e+03]\n",
      " [3.05600492e+00 4.34015485e+03]\n",
      " [3.06600778e+00 4.33903614e+03]\n",
      " [3.07600841e+00 4.33671659e+03]\n",
      " [3.08600339e+00 4.33906941e+03]\n",
      " [3.09600179e+00 4.33303257e+03]\n",
      " [3.10599830e+00 4.32832260e+03]\n",
      " [3.11599571e+00 4.33210489e+03]\n",
      " [3.12600388e+00 4.32883371e+03]\n",
      " [3.13600645e+00 4.32774305e+03]]\n"
     ]
    }
   ],
   "source": [
    "kvec=Pk['k']\n",
    "pkvec=Pk['power'].real\n",
    "\n",
    "#print(kvec[3])\n",
    "#print(pkvec[3])\n",
    "\n",
    "nk = kvec.shape[0]\n",
    "\n",
    "print(nk)\n",
    "\n",
    "pofka=np.array([kvec,pkvec])\n",
    "pofkb=np.transpose(pofka)\n",
    "print pofkb\n",
    "\n",
    "np.savetxt('pofk.txt',pofkb,delimiter='\\t',newline='\\r\\n')"
   ]
  },
  {
   "cell_type": "code",
   "execution_count": 20,
   "metadata": {},
   "outputs": [
    {
     "name": "stdout",
     "output_type": "stream",
     "text": [
      "Nmu = 1\n",
      "Nmesh = [1024 1024 1024]\n",
      "dk = 0.01\n",
      "kmin = 0.001\n",
      "BoxSize = [1024. 1024. 1024.]\n",
      "volume = 1073741824.0\n",
      "los = [0, 0, 1]\n",
      "kmax = None\n",
      "poles = []\n",
      "mode = 1d\n",
      "N1 = 2088610\n",
      "N2 = 2088610\n",
      "shotnoise = 3906.124836299362\n",
      "Lz = 1024.0\n",
      "Lx = 1024.0\n",
      "Ly = 1024.0\n"
     ]
    }
   ],
   "source": [
    "# print out the meta-data\n",
    "for k in Pk.attrs:\n",
    "    print(\"%s = %s\" %(k, str(Pk.attrs[k])))"
   ]
  },
  {
   "cell_type": "code",
   "execution_count": 22,
   "metadata": {},
   "outputs": [
    {
     "data": {
      "image/png": "[encoded data removed]",
      "text/plain": [
       "<Figure size 864x504 with 1 Axes>"
      ]
     },
     "metadata": {
      "image/png": {
       "height": 450,
       "width": 748
      }
     },
     "output_type": "display_data"
    }
   ],
   "source": [
    "fig1 = plt.figure()\n",
    "\n",
    "# print the shot noise subtracted P(k)\n",
    "plt.loglog(Pk['k'], Pk['power'].real - Pk.attrs['shotnoise'])\n",
    "#plt.loglog(Pk['k'], Pk['power'].real)\n",
    "\n",
    "\n",
    "# format the axes\n",
    "plt.xlabel(r\"$k$ [$h \\ \\mathrm{Mpc}^{-1}$]\")\n",
    "plt.ylabel(r\"$P(k)$ [$h^{-3}\\mathrm{Mpc}^3$]\")\n",
    "#plt.xlim(0.001, 0.6)\n",
    "#plt.xlim(0.01, 10.0)\n",
    "#plt.ylim(1,100000)\n",
    "\n",
    "fig1.savefig(\"pofk.pdf\")"
   ]
  },
  {
   "cell_type": "code",
   "execution_count": null,
   "metadata": {},
   "outputs": [],
   "source": []
  }
 ],
 "metadata": {
  "kernelspec": {
   "display_name": "Python 2",
   "language": "python",
   "name": "python2"
  },
  "language_info": {
   "codemirror_mode": {
    "name": "ipython",
    "version": 2
   },
   "file_extension": ".py",
   "mimetype": "text/x-python",
   "name": "python",
   "nbconvert_exporter": "python",
   "pygments_lexer": "ipython2",
   "version": "2.7.16"
  }
 },
 "nbformat": 4,
 "nbformat_minor": 2
}
