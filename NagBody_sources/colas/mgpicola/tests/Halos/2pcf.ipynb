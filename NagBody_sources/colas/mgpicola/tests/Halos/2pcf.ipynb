{
 "cells": [
  {
   "cell_type": "code",
   "execution_count": 1,
   "metadata": {},
   "outputs": [],
   "source": [
    "%matplotlib inline\n",
    "%config InlineBackend.figure_format = 'retina'"
   ]
  },
  {
   "cell_type": "code",
   "execution_count": 2,
   "metadata": {},
   "outputs": [],
   "source": [
    "from nbodykit.lab import *\n",
    "from nbodykit.source.catalog import ArrayCatalog\n",
    "from nbodykit import setup_logging, style\n",
    "\n",
    "import os\n",
    "import matplotlib.pyplot as plt\n",
    "plt.style.use(style.notebook)\n",
    "\n",
    "import numpy as np"
   ]
  },
  {
   "cell_type": "code",
   "execution_count": 3,
   "metadata": {},
   "outputs": [],
   "source": [
    "setup_logging() # turn on logging to screen"
   ]
  },
  {
   "cell_type": "code",
   "execution_count": 4,
   "metadata": {},
   "outputs": [
    {
     "name": "stdout",
     "output_type": "stream",
     "text": [
      "1073741824\n"
     ]
    }
   ],
   "source": [
    "#redshift = 0.5\n",
    "#cosmo = cosmology.Planck15\n",
    "LBox = 1024.0\n",
    "Nparticles = 1024*1024*1024\n",
    "print(Nparticles)"
   ]
  },
  {
   "cell_type": "code",
   "execution_count": 5,
   "metadata": {},
   "outputs": [],
   "source": [
    "# define download dir for the data to the current directory\n",
    "download_dir = \"../../../../halo_catalogues/F6/box1/27\"\n",
    "#download_dir = \"/Users/mar/Research/Codigos/NagBody_pkg/NagBody_sources/colas/mglpicola_fofr/runs/mglpicola_fofr/B0256_P0256_M0256_testing/F5/box5001/output/.\"\n",
    "#download_dir = \"/Users/mar/Research/Codigos/NagBody_pkg/NagBody_sources/colas/mglpicola_fofr/runs/mglpicola_fofr/B0256_P0256_M0256/F5/box5001/output/.\"\n",
    "#download_dir = \"./gadget_data_27\""
   ]
  },
  {
   "cell_type": "code",
   "execution_count": 6,
   "metadata": {},
   "outputs": [
    {
     "name": "stdout",
     "output_type": "stream",
     "text": [
      "2088610\n",
      "272286591.0\n",
      "0.2535866489633918\n",
      "[[   5.05451   27.90979    7.1484 ]\n",
      " [   3.33114    2.02789    8.77102]\n",
      " [   6.93523   23.87998    3.54353]\n",
      " ...\n",
      " [1012.35187 1023.24255 1010.75012]\n",
      " [1018.56238 1010.28809 1012.22632]\n",
      " [1017.27716 1014.47455 1012.68018]]\n",
      "[2.886e+12 3.665e+12 1.404e+12 ... 2.418e+12 1.560e+11 2.184e+12]\n",
      "[[   5.05451   27.90979    7.1484 ]\n",
      " [   3.33114    2.02789    8.77102]\n",
      " [   6.93523   23.87998    3.54353]\n",
      " ...\n",
      " [1012.35187 1023.24255 1010.75012]\n",
      " [1018.56238 1010.28809 1012.22632]\n",
      " [1017.27716 1014.47455 1012.68018]]\n"
     ]
    }
   ],
   "source": [
    "# NOTE: change this path if you downloaded the data somewhere else!\n",
    "data_path = os.path.join(download_dir, 'Rockstar_M200c_F6_B1_B1024_NP1024_S27.dat')\n",
    "#data_path = os.path.join(download_dir, 'snapshot_z0p000.*')\n",
    "#data_path = os.path.join(download_dir, 'gadget.*')\n",
    "\n",
    "\n",
    "# initialize the Gadget1 catalog objects for data and randoms\n",
    "#data = Gadget1Catalog(data_path)\n",
    "\n",
    "# Reading file\n",
    "inputFile = np.loadtxt(data_path)\n",
    "\n",
    "massvec=inputFile[:,2]\n",
    "npvec=inputFile[:,7]\n",
    "xvec=inputFile[:,8]\n",
    "yvec=inputFile[:,9]\n",
    "zvec=inputFile[:,10]\n",
    "nval=massvec.shape[0]\n",
    "npvecsum = np.sum(npvec)\n",
    "print(nval)\n",
    "print(npvecsum)\n",
    "print(npvecsum/Nparticles)\n",
    "\n",
    "#for i in range(0,nval):\n",
    "#    xvec[i] = xvec[i]/LBox\n",
    "#    yvec[i] = yvec[i]/LBox\n",
    "#    zvec[i] = zvec[i]/LBox\n",
    "\n",
    "arraya=np.array([xvec,yvec,zvec])\n",
    "arrayb=np.transpose(arraya)\n",
    "print arrayb\n",
    "\n",
    "# generate the fake data\n",
    "#data = numpy.empty(1024, dtype=[('Position', ('f8', 3)), ('Mass', 'f8')])\n",
    "#data['Position'] = numpy.random.random(size=(1024, 3))\n",
    "#data['Mass'] = numpy.random.random(size=1024)\n",
    "\n",
    "data = numpy.empty(nval, dtype=[('Position', ('f8', 3)), ('Mass', 'f8')])\n",
    "data['Position'] = arrayb\n",
    "data['Mass'] = massvec\n",
    "\n",
    "\n",
    "print(data['Mass'])\n",
    "print(data['Position'])\n",
    "\n"
   ]
  },
  {
   "cell_type": "markdown",
   "metadata": {},
   "source": [
    "We can analyze the available columns in the catalogs via the ``columns`` attribute:"
   ]
  },
  {
   "cell_type": "code",
   "execution_count": 7,
   "metadata": {
    "scrolled": false
   },
   "outputs": [
    {
     "name": "stdout",
     "output_type": "stream",
     "text": [
      "ArrayCatalog(size=2088610)\n",
      "('columns = ', ['Mass', 'Position', 'Selection', 'Value', 'Weight'])\n",
      "('total size = ', 2088610)\n",
      "ArrayCatalog(size=2088610)\n",
      "('columns = ', ['Mass', 'Position', 'Selection', 'Value', 'Weight'])\n",
      "('total size = ', 2088610)\n"
     ]
    }
   ],
   "source": [
    "#print('data columns = ', data.columns)\n",
    "# save to a npy file\n",
    "numpy.save(\"npy-data.npy\", data)\n",
    "\n",
    "rdata = numpy.load(\"npy-data.npy\")\n",
    "\n",
    "# initialize the catalog\n",
    "fdattmp = ArrayCatalog(rdata)\n",
    "\n",
    "print(fdattmp)\n",
    "print(\"columns = \", fdattmp.columns) # default Weight,Selection also present\n",
    "print(\"total size = \", fdattmp.csize)\n",
    "\n",
    "\n",
    "fdata = ArrayCatalog({'Position' : data['Position'], 'Mass' : data['Mass'] })\n",
    "\n",
    "print(fdata)\n",
    "print(\"columns = \", fdata.columns) # default Weight,Selection also present\n",
    "print(\"total size = \", fdata.csize)"
   ]
  },
  {
   "cell_type": "code",
   "execution_count": 8,
   "metadata": {
    "scrolled": true
   },
   "outputs": [
    {
     "name": "stdout",
     "output_type": "stream",
     "text": [
      "[1.0000e-02 3.3430e+00 6.6760e+00 1.0009e+01 1.3342e+01 1.6675e+01\n",
      " 2.0008e+01 2.3341e+01 2.6674e+01 3.0007e+01 3.3340e+01 3.6673e+01\n",
      " 4.0006e+01 4.3339e+01 4.6672e+01 5.0005e+01 5.3338e+01 5.6671e+01\n",
      " 6.0004e+01 6.3337e+01 6.6670e+01 7.0003e+01 7.3336e+01 7.6669e+01\n",
      " 8.0002e+01 8.3335e+01 8.6668e+01 9.0001e+01 9.3334e+01 9.6667e+01\n",
      " 1.0000e+02]\n"
     ]
    }
   ],
   "source": [
    "ri = 0.01\n",
    "rf = 100.0\n",
    "Nr = 30\n",
    "dr = (rf-ri)/int(Nr)\n",
    "#redges = np.arange(ri,rf,dr)\n",
    "redges = numpy.linspace(ri, rf, Nr+1) # 20 total bins\n",
    "print(redges)\n",
    "#MyBoxSize1 = data.attrs['MyBoxSize']"
   ]
  },
  {
   "cell_type": "code",
   "execution_count": 9,
   "metadata": {
    "scrolled": true
   },
   "outputs": [
    {
     "name": "stderr",
     "output_type": "stream",
     "text": [
      "[ 000106.80 ]   0: 10-17 08:23  SimulationBoxPairCount INFO     using cpu grid decomposition: (1, 1, 1)\n",
      "[ 000108.28 ]   0: 10-17 08:23  SimulationBoxPairCount INFO     correlating 2088610 x 2088610 objects in total\n",
      "[ 000108.28 ]   0: 10-17 08:23  SimulationBoxPairCount INFO     correlating A x B = 2088610 x 2088610 objects (median) per rank\n",
      "[ 000108.28 ]   0: 10-17 08:23  SimulationBoxPairCount INFO     min A load per rank = 2088610\n",
      "[ 000108.28 ]   0: 10-17 08:23  SimulationBoxPairCount INFO     max A load per rank = 2088610\n",
      "[ 000108.28 ]   0: 10-17 08:23  SimulationBoxPairCount INFO     (even distribution would result in 2088610 x 2088610)\n",
      "[ 000108.33 ]   0: 10-17 08:23  MPICorrfuncCallable INFO     calling function 'Corrfunc.theory.DD.DD'\n"
     ]
    }
   ],
   "source": [
    "tpc = SimulationBox2PCF(mode='1d',data1=fdata,edges=redges,BoxSize=[LBox,LBox,LBox],periodic=True,position='Position')"
   ]
  },
  {
   "cell_type": "code",
   "execution_count": 10,
   "metadata": {},
   "outputs": [
    {
     "name": "stdout",
     "output_type": "stream",
     "text": [
      "<nbodykit.algorithms.paircount_tpcf.tpcf.SimulationBox2PCF object at 0x7fadcaae6750>\n",
      "<BinnedStatistic: dims: (r: 30), variables: ('r', 'npairs', 'wnpairs')>\n",
      "<WedgeBinnedStatistic: dims: (r: 30), variables: ('npairs', 'wnpairs')>\n",
      "<WedgeBinnedStatistic: dims: (r: 30), variables: ('corr', 'r')>\n",
      "{'r': array([ 1.6765,  5.0095,  8.3425, 11.6755, 15.0085, 18.3415, 21.6745,\n",
      "       25.0075, 28.3405, 31.6735, 35.0065, 38.3395, 41.6725, 45.0055,\n",
      "       48.3385, 51.6715, 55.0045, 58.3375, 61.6705, 65.0035, 68.3365,\n",
      "       71.6695, 75.0025, 78.3355, 81.6685, 85.0015, 88.3345, 91.6675,\n",
      "       95.0005, 98.3335])}\n"
     ]
    }
   ],
   "source": [
    "print(tpc)\n",
    "print(tpc.D1D2)\n",
    "print(tpc.R1R2)\n",
    "print(tpc.corr)\n",
    "tpcf=tpc.corr\n",
    "print(tpcf.coords)"
   ]
  },
  {
   "cell_type": "code",
   "execution_count": 11,
   "metadata": {},
   "outputs": [
    {
     "name": "stdout",
     "output_type": "stream",
     "text": [
      "30\n",
      "[[1.99434680e+00 6.19025447e+00]\n",
      " [5.20534319e+00 1.40167419e+00]\n",
      " [8.49177216e+00 6.37442748e-01]\n",
      " [1.17959472e+01 3.63367358e-01]\n",
      " [1.51100675e+01 2.31106372e-01]\n",
      " [1.84282263e+01 1.56868629e-01]\n",
      " [2.17506723e+01 1.11653881e-01]\n",
      " [2.50753090e+01 8.17705459e-02]\n",
      " [2.84012498e+01 6.11939890e-02]\n",
      " [3.17286293e+01 4.70372832e-02]\n",
      " [3.50568381e+01 3.67239465e-02]\n",
      " [3.83861020e+01 2.89868861e-02]\n",
      " [4.17152599e+01 2.25986082e-02]\n",
      " [4.50455450e+01 1.79776214e-02]\n",
      " [4.83760406e+01 1.40251981e-02]\n",
      " [5.17066960e+01 1.12923462e-02]\n",
      " [5.50375012e+01 8.73922073e-03]\n",
      " [5.83687080e+01 6.80841066e-03]\n",
      " [6.17002653e+01 5.34959011e-03]\n",
      " [6.50317259e+01 4.41108988e-03]\n",
      " [6.83631926e+01 3.60228098e-03]\n",
      " [7.16952499e+01 2.84076997e-03]\n",
      " [7.50270187e+01 2.29144695e-03]\n",
      " [7.83590785e+01 1.82638070e-03]\n",
      " [8.16911835e+01 1.62443007e-03]\n",
      " [8.50230976e+01 1.12852973e-03]\n",
      " [8.83554919e+01 1.02005783e-03]\n",
      " [9.16876323e+01 1.14587092e-03]\n",
      " [9.50201125e+01 1.21051973e-03]\n",
      " [9.83524900e+01 1.39808211e-03]]\n"
     ]
    }
   ],
   "source": [
    "rvec=tpcf['r']\n",
    "tpcfvec=tpcf['corr'].real\n",
    "\n",
    "#print(kvec[3])\n",
    "#print(pkvec[3])\n",
    "\n",
    "nr = rvec.shape[0]\n",
    "\n",
    "print(nr)\n",
    "\n",
    "tpcfa=np.array([rvec,tpcfvec])\n",
    "tpcfb=np.transpose(tpcfa)\n",
    "print tpcfb\n",
    "\n",
    "np.savetxt('2pcf.dat',tpcfb,delimiter='\\t',newline='\\r\\n')"
   ]
  },
  {
   "cell_type": "code",
   "execution_count": 12,
   "metadata": {},
   "outputs": [],
   "source": [
    "# print out the meta-data\n",
    "for i in tpcf.attrs:\n",
    "    print(\"%s = %s\" %(i, str(tpcf.attrs[i])))"
   ]
  },
  {
   "cell_type": "code",
   "execution_count": 14,
   "metadata": {
    "scrolled": true
   },
   "outputs": [
    {
     "data": {
      "image/png": "[encoded data removed]",
      "text/plain": [
       "<Figure size 864x504 with 1 Axes>"
      ]
     },
     "metadata": {
      "image/png": {
       "height": 445,
       "width": 729
      }
     },
     "output_type": "display_data"
    }
   ],
   "source": [
    "fig1 = plt.figure()\n",
    "\n",
    "# print the shot noise subtracted P(k)\n",
    "plt.plot(tpcf['r'], tpcf['corr'])\n",
    "#plt.loglog(Pk['k'], Pk['power'].real)\n",
    "\n",
    "\n",
    "# format the axes\n",
    "plt.xlabel(r\"$r$ [$\\mathrm{Mpc}/h$]\")\n",
    "plt.ylabel(r\"$\\xi$\")\n",
    "#plt.xlim(0.001, 0.6)\n",
    "#plt.xlim(0.01, 10.0)\n",
    "#plt.ylim(1,100000)\n",
    "\n",
    "fig1.savefig(\"2pcf.pdf\")"
   ]
  },
  {
   "cell_type": "code",
   "execution_count": null,
   "metadata": {},
   "outputs": [],
   "source": []
  }
 ],
 "metadata": {
  "kernelspec": {
   "display_name": "Python 2",
   "language": "python",
   "name": "python2"
  },
  "language_info": {
   "codemirror_mode": {
    "name": "ipython",
    "version": 2
   },
   "file_extension": ".py",
   "mimetype": "text/x-python",
   "name": "python",
   "nbconvert_exporter": "python",
   "pygments_lexer": "ipython2",
   "version": "2.7.16"
  }
 },
 "nbformat": 4,
 "nbformat_minor": 2
}
